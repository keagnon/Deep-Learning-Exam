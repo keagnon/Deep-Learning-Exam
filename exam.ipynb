{
 "cells": [
  {
   "attachments": {},
   "cell_type": "markdown",
   "metadata": {},
   "source": [
    "**Décrivez un pipeline de détection de langage abusif sur un réseau social. Vous pouvez utiliser des schémas.**\n",
    "\n",
    "\n",
    "Les réseaux sociaux représentent aujourd’hui un moyen de communication incontournable.Cependant, certains utilisateurs créent actuellement des comptes pour diffuser des contenus abusifs. En effet, ce langage abusif est interdit et la détection automatique d’un tel langage est un défi majeur à surmonter. Pour ce faire, le mieux serait d’avoir une base de donnée de ce réseau social ou effectuer un scraping  en se basant sur un mot clé dans le but de récupérer les informations relatives aux comptes du propriétaires de la page et du message posté tels que l’image, les textes, les commentaires liés aux images ainsi que leurs réponses.\n",
    "Voici un pipeline de détection de langage abusif sur un réseau social:\n",
    "\n",
    "Collecte des données :\n",
    "Cette extraction de donnée peut être fait en utilisant la base de donnée du réseau social ou en scrapant la page web du réseau social en question. Cette collecte peut être effectuée en utilisant les API fournies par le réseau social, comme l'API Facebook ou Twitter API.\n",
    "\n",
    "\n",
    "Prétraitement des données :\n",
    "A ce niveau, l’objectif est d’effectuer des modifications sur les données dans le but d’en tirer des informations plus pertinentes.Cette étape vise à nettoyer les données en supprimant les caractères spéciaux, les symboles, les chiffres et les caractères de ponctuation. Elle peut également inclure la normalisation des caractères et la suppression des mots vides (stop-words) et des caractères inutiles.\n",
    "\n",
    "Traitement des données :\n",
    "Elle consiste à appliquer des techniques de traitement des données pour extraire les fonctionnalités de chaque message ou publication. Ces fonctionnalités peuvent inclure les groupes de mots, les caractéristiques de syntaxe et les caractéristiques sémantiques. Cette étape permet également de représenter les données de manière vectorielle.On aura une répresentation vectorielle de nos données par l’utilisation du CountVectorizer de scikit-learn pour compter les mots dans chaque tweet et les transformer en données qu’un modèle d'apprentissage automatique crée pourra traiter.\n",
    "\n",
    "Modélisation: La quatrième étape consiste à construire un modèle de détection de langage abusif. Cette étape peut utiliser différents algorithmes de machine learning tels que les SVM, les réseaux de neurones, les arbres de décision et les méthodes bayésiennes.ces données traitées seront utilisée pour la création d'un modèle prédictif ayant pour but de détecter les messages abusifs en classification binaire 0 ou 1.\n",
    "\n",
    "Évaluation : La cinquième étape consiste à évaluer les performances du modèle. Cette étape implique la division des données en ensembles de formation (train) et de test pour évaluer la précision.\n",
    "\n",
    "Déploiement: La dernière étape du pipeline est le déploiement du modèle pour la détection en temps réel de langage abusif sur les réseaux sociaux. "
   ]
  },
  {
   "attachments": {},
   "cell_type": "markdown",
   "metadata": {},
   "source": [
    "**Expliquez le processus permettant d’utiliser un algorithme hybride CNN-LSTM pour détecter un contenu agressif dans une publication.**\n",
    "\n",
    "L'algorithme hybride CNN-LSTM est un modèle de réseau de neurones profonds qui peut être utilisé pour détecter des contenus agressifs dans les publications telles que des images ou des vidéos. Le processus de détection de contenus agressifs avec un algorithme hybride CNN-LSTM se déroule généralement en plusieurs étapes :\n",
    "\n",
    "En premier lieu, le modèle aura en entrer les séquence de texte ainsi que leur label (si contenu agressif ou pas) ensuite on aura une couche de Word-embbeding qui aura comme input une matrice de séquence de texte qui vont être représenté sous forme vectorielle(wod2vec), puis viendra  \n",
    "un CNN qui va être utilisé comme features extractor donc il aura pour mission d'extraire les informations locale en utilisant des filtres 1D et du Pooling afin de réduire la complexité et la taille des données, ensuite les sorties du CNN (feature vector) seront envoyés comme entré au LSTM, ce dernier va utiliser l'historique et ces features afin de trouver le contexte du texte , puis enfin s'ajoute une couche de fully connected (dense) et un softmax ou sigmoid, qui aura pour but de classifier la séquence en entrer.\n",
    "\n",
    "En résumé, le processus de détection de contenus agressifs avec un algorithme hybride CNN-LSTM implique la collecte et la préparation des données, l'entraînement et la validation du modèle, ainsi que le déploiement du modèle pour détecter automatiquement les contenus agressifs dans les publications."
   ]
  },
  {
   "cell_type": "code",
   "execution_count": 1,
   "metadata": {},
   "outputs": [
    {
     "name": "stdout",
     "output_type": "stream",
     "text": [
      "Fail to import moviepy. Need only for Video upload.\n",
      "Except on SendRequest (wait 60 sec and resend): module 'collections' has no attribute 'Callable'\n",
      "Except on SendRequest (wait 60 sec and resend): module 'collections' has no attribute 'Callable'\n"
     ]
    },
    {
     "ename": "KeyboardInterrupt",
     "evalue": "",
     "output_type": "error",
     "traceback": [
      "\u001b[0;31m---------------------------------------------------------------------------\u001b[0m",
      "\u001b[0;31mAttributeError\u001b[0m                            Traceback (most recent call last)",
      "File \u001b[0;32m~/.local/lib/python3.10/site-packages/InstagramAPI/InstagramAPI.py:837\u001b[0m, in \u001b[0;36mInstagramAPI.SendRequest\u001b[0;34m(self, endpoint, post, login)\u001b[0m\n\u001b[1;32m    836\u001b[0m \u001b[39melse\u001b[39;00m:\n\u001b[0;32m--> 837\u001b[0m     response \u001b[39m=\u001b[39m \u001b[39mself\u001b[39;49m\u001b[39m.\u001b[39;49ms\u001b[39m.\u001b[39;49mget(\u001b[39mself\u001b[39;49m\u001b[39m.\u001b[39;49mAPI_URL \u001b[39m+\u001b[39;49m endpoint, verify\u001b[39m=\u001b[39;49mverify)\n\u001b[1;32m    838\u001b[0m \u001b[39mbreak\u001b[39;00m\n",
      "File \u001b[0;32m~/.local/lib/python3.10/site-packages/requests/sessions.py:488\u001b[0m, in \u001b[0;36mSession.get\u001b[0;34m(self, url, **kwargs)\u001b[0m\n\u001b[1;32m    487\u001b[0m kwargs\u001b[39m.\u001b[39msetdefault(\u001b[39m'\u001b[39m\u001b[39mallow_redirects\u001b[39m\u001b[39m'\u001b[39m, \u001b[39mTrue\u001b[39;00m)\n\u001b[0;32m--> 488\u001b[0m \u001b[39mreturn\u001b[39;00m \u001b[39mself\u001b[39;49m\u001b[39m.\u001b[39;49mrequest(\u001b[39m'\u001b[39;49m\u001b[39mGET\u001b[39;49m\u001b[39m'\u001b[39;49m, url, \u001b[39m*\u001b[39;49m\u001b[39m*\u001b[39;49mkwargs)\n",
      "File \u001b[0;32m~/.local/lib/python3.10/site-packages/requests/sessions.py:461\u001b[0m, in \u001b[0;36mSession.request\u001b[0;34m(self, method, url, params, data, headers, cookies, files, auth, timeout, allow_redirects, proxies, hooks, stream, verify, cert, json)\u001b[0m\n\u001b[1;32m    449\u001b[0m req \u001b[39m=\u001b[39m Request(\n\u001b[1;32m    450\u001b[0m     method \u001b[39m=\u001b[39m method\u001b[39m.\u001b[39mupper(),\n\u001b[1;32m    451\u001b[0m     url \u001b[39m=\u001b[39m url,\n\u001b[0;32m   (...)\u001b[0m\n\u001b[1;32m    459\u001b[0m     hooks \u001b[39m=\u001b[39m hooks,\n\u001b[1;32m    460\u001b[0m )\n\u001b[0;32m--> 461\u001b[0m prep \u001b[39m=\u001b[39m \u001b[39mself\u001b[39;49m\u001b[39m.\u001b[39;49mprepare_request(req)\n\u001b[1;32m    463\u001b[0m proxies \u001b[39m=\u001b[39m proxies \u001b[39mor\u001b[39;00m {}\n",
      "File \u001b[0;32m~/.local/lib/python3.10/site-packages/requests/sessions.py:384\u001b[0m, in \u001b[0;36mSession.prepare_request\u001b[0;34m(self, request)\u001b[0m\n\u001b[1;32m    383\u001b[0m p \u001b[39m=\u001b[39m PreparedRequest()\n\u001b[0;32m--> 384\u001b[0m p\u001b[39m.\u001b[39;49mprepare(\n\u001b[1;32m    385\u001b[0m     method\u001b[39m=\u001b[39;49mrequest\u001b[39m.\u001b[39;49mmethod\u001b[39m.\u001b[39;49mupper(),\n\u001b[1;32m    386\u001b[0m     url\u001b[39m=\u001b[39;49mrequest\u001b[39m.\u001b[39;49murl,\n\u001b[1;32m    387\u001b[0m     files\u001b[39m=\u001b[39;49mrequest\u001b[39m.\u001b[39;49mfiles,\n\u001b[1;32m    388\u001b[0m     data\u001b[39m=\u001b[39;49mrequest\u001b[39m.\u001b[39;49mdata,\n\u001b[1;32m    389\u001b[0m     json\u001b[39m=\u001b[39;49mrequest\u001b[39m.\u001b[39;49mjson,\n\u001b[1;32m    390\u001b[0m     headers\u001b[39m=\u001b[39;49mmerge_setting(request\u001b[39m.\u001b[39;49mheaders, \u001b[39mself\u001b[39;49m\u001b[39m.\u001b[39;49mheaders, dict_class\u001b[39m=\u001b[39;49mCaseInsensitiveDict),\n\u001b[1;32m    391\u001b[0m     params\u001b[39m=\u001b[39;49mmerge_setting(request\u001b[39m.\u001b[39;49mparams, \u001b[39mself\u001b[39;49m\u001b[39m.\u001b[39;49mparams),\n\u001b[1;32m    392\u001b[0m     auth\u001b[39m=\u001b[39;49mmerge_setting(auth, \u001b[39mself\u001b[39;49m\u001b[39m.\u001b[39;49mauth),\n\u001b[1;32m    393\u001b[0m     cookies\u001b[39m=\u001b[39;49mmerged_cookies,\n\u001b[1;32m    394\u001b[0m     hooks\u001b[39m=\u001b[39;49mmerge_hooks(request\u001b[39m.\u001b[39;49mhooks, \u001b[39mself\u001b[39;49m\u001b[39m.\u001b[39;49mhooks),\n\u001b[1;32m    395\u001b[0m )\n\u001b[1;32m    396\u001b[0m \u001b[39mreturn\u001b[39;00m p\n",
      "File \u001b[0;32m~/.local/lib/python3.10/site-packages/requests/models.py:304\u001b[0m, in \u001b[0;36mPreparedRequest.prepare\u001b[0;34m(self, method, url, headers, files, data, params, auth, cookies, hooks, json)\u001b[0m\n\u001b[1;32m    300\u001b[0m \u001b[39m# Note that prepare_auth must be last to enable authentication schemes\u001b[39;00m\n\u001b[1;32m    301\u001b[0m \u001b[39m# such as OAuth to work on a fully prepared request.\u001b[39;00m\n\u001b[1;32m    302\u001b[0m \n\u001b[1;32m    303\u001b[0m \u001b[39m# This MUST go after prepare_auth. Authenticators could add a hook\u001b[39;00m\n\u001b[0;32m--> 304\u001b[0m \u001b[39mself\u001b[39;49m\u001b[39m.\u001b[39;49mprepare_hooks(hooks)\n",
      "File \u001b[0;32m~/.local/lib/python3.10/site-packages/requests/models.py:535\u001b[0m, in \u001b[0;36mPreparedRequest.prepare_hooks\u001b[0;34m(self, hooks)\u001b[0m\n\u001b[1;32m    534\u001b[0m \u001b[39mfor\u001b[39;00m event \u001b[39min\u001b[39;00m hooks:\n\u001b[0;32m--> 535\u001b[0m     \u001b[39mself\u001b[39;49m\u001b[39m.\u001b[39;49mregister_hook(event, hooks[event])\n",
      "File \u001b[0;32m~/.local/lib/python3.10/site-packages/requests/models.py:170\u001b[0m, in \u001b[0;36mRequestHooksMixin.register_hook\u001b[0;34m(self, event, hook)\u001b[0m\n\u001b[1;32m    168\u001b[0m     \u001b[39mraise\u001b[39;00m \u001b[39mValueError\u001b[39;00m(\u001b[39m'\u001b[39m\u001b[39mUnsupported event specified, with event name \u001b[39m\u001b[39m\"\u001b[39m\u001b[39m%s\u001b[39;00m\u001b[39m\"\u001b[39m\u001b[39m'\u001b[39m \u001b[39m%\u001b[39m (event))\n\u001b[0;32m--> 170\u001b[0m \u001b[39mif\u001b[39;00m \u001b[39misinstance\u001b[39m(hook, collections\u001b[39m.\u001b[39;49mCallable):\n\u001b[1;32m    171\u001b[0m     \u001b[39mself\u001b[39m\u001b[39m.\u001b[39mhooks[event]\u001b[39m.\u001b[39mappend(hook)\n",
      "\u001b[0;31mAttributeError\u001b[0m: module 'collections' has no attribute 'Callable'",
      "\nDuring handling of the above exception, another exception occurred:\n",
      "\u001b[0;31mKeyboardInterrupt\u001b[0m                         Traceback (most recent call last)",
      "Cell \u001b[0;32mIn[1], line 8\u001b[0m\n\u001b[1;32m      6\u001b[0m password \u001b[39m=\u001b[39m \u001b[39m'\u001b[39m\u001b[39mvotre_mot_de_passe_instagram\u001b[39m\u001b[39m'\u001b[39m\n\u001b[1;32m      7\u001b[0m api \u001b[39m=\u001b[39m InstagramAPI(username, password)\n\u001b[0;32m----> 8\u001b[0m api\u001b[39m.\u001b[39;49mlogin()\n\u001b[1;32m     10\u001b[0m \u001b[39m#Requête de recherche\u001b[39;00m\n\u001b[1;32m     11\u001b[0m requete \u001b[39m=\u001b[39m \u001b[39m'\u001b[39m\u001b[39mle décès du président Jacques Chirac\u001b[39m\u001b[39m'\u001b[39m\n",
      "File \u001b[0;32m~/.local/lib/python3.10/site-packages/InstagramAPI/InstagramAPI.py:89\u001b[0m, in \u001b[0;36mInstagramAPI.login\u001b[0;34m(self, force)\u001b[0m\n\u001b[1;32m     87\u001b[0m \u001b[39mdef\u001b[39;00m \u001b[39mlogin\u001b[39m(\u001b[39mself\u001b[39m, force\u001b[39m=\u001b[39m\u001b[39mFalse\u001b[39;00m):\n\u001b[1;32m     88\u001b[0m     \u001b[39mif\u001b[39;00m (\u001b[39mnot\u001b[39;00m \u001b[39mself\u001b[39m\u001b[39m.\u001b[39misLoggedIn \u001b[39mor\u001b[39;00m force):\n\u001b[0;32m---> 89\u001b[0m         \u001b[39mif\u001b[39;00m (\u001b[39mself\u001b[39;49m\u001b[39m.\u001b[39;49mSendRequest(\u001b[39m'\u001b[39;49m\u001b[39msi/fetch_headers/?challenge_type=signup&guid=\u001b[39;49m\u001b[39m'\u001b[39;49m \u001b[39m+\u001b[39;49m \u001b[39mself\u001b[39;49m\u001b[39m.\u001b[39;49mgenerateUUID(\u001b[39mFalse\u001b[39;49;00m), \u001b[39mNone\u001b[39;49;00m, \u001b[39mTrue\u001b[39;49;00m)):\n\u001b[1;32m     91\u001b[0m             data \u001b[39m=\u001b[39m {\u001b[39m'\u001b[39m\u001b[39mphone_id\u001b[39m\u001b[39m'\u001b[39m: \u001b[39mself\u001b[39m\u001b[39m.\u001b[39mgenerateUUID(\u001b[39mTrue\u001b[39;00m),\n\u001b[1;32m     92\u001b[0m                     \u001b[39m'\u001b[39m\u001b[39m_csrftoken\u001b[39m\u001b[39m'\u001b[39m: \u001b[39mself\u001b[39m\u001b[39m.\u001b[39mLastResponse\u001b[39m.\u001b[39mcookies[\u001b[39m'\u001b[39m\u001b[39mcsrftoken\u001b[39m\u001b[39m'\u001b[39m],\n\u001b[1;32m     93\u001b[0m                     \u001b[39m'\u001b[39m\u001b[39musername\u001b[39m\u001b[39m'\u001b[39m: \u001b[39mself\u001b[39m\u001b[39m.\u001b[39musername,\n\u001b[0;32m   (...)\u001b[0m\n\u001b[1;32m     96\u001b[0m                     \u001b[39m'\u001b[39m\u001b[39mpassword\u001b[39m\u001b[39m'\u001b[39m: \u001b[39mself\u001b[39m\u001b[39m.\u001b[39mpassword,\n\u001b[1;32m     97\u001b[0m                     \u001b[39m'\u001b[39m\u001b[39mlogin_attempt_count\u001b[39m\u001b[39m'\u001b[39m: \u001b[39m'\u001b[39m\u001b[39m0\u001b[39m\u001b[39m'\u001b[39m}\n\u001b[1;32m     99\u001b[0m             \u001b[39mif\u001b[39;00m (\u001b[39mself\u001b[39m\u001b[39m.\u001b[39mSendRequest(\u001b[39m'\u001b[39m\u001b[39maccounts/login/\u001b[39m\u001b[39m'\u001b[39m, \u001b[39mself\u001b[39m\u001b[39m.\u001b[39mgenerateSignature(json\u001b[39m.\u001b[39mdumps(data)), \u001b[39mTrue\u001b[39;00m)):\n",
      "File \u001b[0;32m~/.local/lib/python3.10/site-packages/InstagramAPI/InstagramAPI.py:841\u001b[0m, in \u001b[0;36mInstagramAPI.SendRequest\u001b[0;34m(self, endpoint, post, login)\u001b[0m\n\u001b[1;32m    839\u001b[0m     \u001b[39mexcept\u001b[39;00m \u001b[39mException\u001b[39;00m \u001b[39mas\u001b[39;00m e:\n\u001b[1;32m    840\u001b[0m         \u001b[39mprint\u001b[39m(\u001b[39m'\u001b[39m\u001b[39mExcept on SendRequest (wait 60 sec and resend): \u001b[39m\u001b[39m'\u001b[39m \u001b[39m+\u001b[39m \u001b[39mstr\u001b[39m(e))\n\u001b[0;32m--> 841\u001b[0m         time\u001b[39m.\u001b[39;49msleep(\u001b[39m60\u001b[39;49m)\n\u001b[1;32m    843\u001b[0m \u001b[39mif\u001b[39;00m response\u001b[39m.\u001b[39mstatus_code \u001b[39m==\u001b[39m \u001b[39m200\u001b[39m:\n\u001b[1;32m    844\u001b[0m     \u001b[39mself\u001b[39m\u001b[39m.\u001b[39mLastResponse \u001b[39m=\u001b[39m response\n",
      "\u001b[0;31mKeyboardInterrupt\u001b[0m: "
     ]
    }
   ],
   "source": [
    "from InstagramAPI import InstagramAPI\n",
    "import pymongo\n",
    "\n",
    "# Informations d'authentification Instagram & Authentification à l'API Instagram\n",
    "username = 'votre_nom_utilisateur_instagram'\n",
    "password = 'votre_mot_de_passe_instagram'\n",
    "api = InstagramAPI(username, password)\n",
    "api.login()\n",
    "\n",
    "#Requête de recherche\n",
    "requete = 'le décès du président Jacques Chirac'\n",
    "\n",
    "# Connexion à la base de données MongoDB\n",
    "client = pymongo.MongoClient('localhost', 27017)\n",
    "db = client['db_instagram_posts']\n",
    "collection = db['données']\n",
    "\n",
    "# Collecte des posts\n",
    "api.searchUsername(requete)\n",
    "user_id = api.LastJson['user']['pk']\n",
    "api.getUserFeed(user_id)\n",
    "media_ids = []\n",
    "\n",
    "for media in api.LastJson['items']:\n",
    "    media_id = media['pk']\n",
    "    media_ids.append(media_id)\n",
    "    media_info = api.getMediaInfo(media_id)\n",
    "\n",
    "    #Collecte des textes,des urls ainsi que des images et les commentaires relatif à chaque post\n",
    "    media_data = {\n",
    "        'text': media_info['items'][0]['caption']['text'],\n",
    "        'image_url': media_info['items'][0]['image_versions2']['candidates'][0]['url'],\n",
    "        'comments': []\n",
    "    }\n",
    "\n",
    "    for comment in media_info['items'][0]['comments']['comments']:\n",
    "        comment_data = {\n",
    "            'id': comment['pk'],\n",
    "            'text': comment['text']\n",
    "        }\n",
    "        media_data['comments'].append(comment_data)\n",
    "\n",
    "    #Stockage dans la base de données\n",
    "    collection.insert_one(media_data)\n",
    "\n",
    "# Fermeture de la connexion à l'API d'instagram\n",
    "api.logout()\n"
   ]
  },
  {
   "cell_type": "code",
   "execution_count": null,
   "metadata": {},
   "outputs": [],
   "source": []
  }
 ],
 "metadata": {
  "kernelspec": {
   "display_name": "Python 3",
   "language": "python",
   "name": "python3"
  },
  "language_info": {
   "codemirror_mode": {
    "name": "ipython",
    "version": 3
   },
   "file_extension": ".py",
   "mimetype": "text/x-python",
   "name": "python",
   "nbconvert_exporter": "python",
   "pygments_lexer": "ipython3",
   "version": "3.10.6"
  },
  "orig_nbformat": 4,
  "vscode": {
   "interpreter": {
    "hash": "916dbcbb3f70747c44a77c7bcd40155683ae19c65e1c03b4aa3499c5328201f1"
   }
  }
 },
 "nbformat": 4,
 "nbformat_minor": 2
}
